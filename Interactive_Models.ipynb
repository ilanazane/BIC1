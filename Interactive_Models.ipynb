{
 "cells": [
  {
   "cell_type": "markdown",
   "metadata": {
    "collapsed": true,
    "pycharm": {
     "name": "#%% md\n"
    }
   },
   "source": [
    "# Assignment 1: Modeling Spikes\n",
    "\n",
    "### Part 1: Imports and Properties"
   ]
  },
  {
   "cell_type": "code",
   "execution_count": 1,
   "outputs": [
    {
     "name": "stderr",
     "output_type": "stream",
     "text": [
      "Enabling notebook extension jupyter-js-widgets/extension...\n",
      "      - Validating: ok\n"
     ]
    }
   ],
   "source": [
    "import numpy as np\n",
    "import matplotlib.pyplot as plt\n",
    "import seaborn as sns\n",
    "from scipy.integrate import odeint\n",
    "\n",
    "%matplotlib inline\n",
    "plt.rcParams['figure.figsize'] = (48, 12)\n",
    "plt.rcParams.update({'font.size': 36})\n",
    "\n",
    "from ipywidgets import interact\n",
    "!jupyter nbextension enable --py widgetsnbextension"
   ],
   "metadata": {
    "collapsed": false,
    "pycharm": {
     "name": "#%%\n"
    }
   }
  },
  {
   "cell_type": "markdown",
   "source": [
    "## Part 2: LIF Model\n",
    "Differential equations describe change in $V$ from state $i - 1$ to $i$ during time interval $dt$.\n",
    "\n",
    "The LIF model is described by the following differential equation:\n",
    "\n",
    "$$\\tau_{m}\\frac{dV}{dt} = -V_m(t) + R_mI(t)$$\n",
    "\n",
    "Thus, we use the following update rule, performed during each time step $dt$.\n",
    "\n",
    "$$V_m[i] = V_m[i-1] + \\frac{(-V_m[i-1] + R_m*I[i-1]) * dt}{tau_m}$$"
   ],
   "metadata": {
    "collapsed": false,
    "pycharm": {
     "name": "#%% md\n"
    }
   }
  },
  {
   "cell_type": "code",
   "execution_count": 2,
   "outputs": [
    {
     "data": {
      "text/plain": "interactive(children=(FloatSlider(value=2.0, description='I', max=5.0), IntSlider(value=45, description='lengt…",
      "application/vnd.jupyter.widget-view+json": {
       "version_major": 2,
       "version_minor": 0,
       "model_id": "2db48b10811c4d12a0fa16be1dd82ffa"
      }
     },
     "metadata": {},
     "output_type": "display_data"
    }
   ],
   "source": [
    "## Time Variables\n",
    "t_total_lif = 100                    # total time to simulate (msec)\n",
    "dt = 0.1                         # simulation time step (msec)\n",
    "t_arr_lif = np.arange(0, t_total_lif, dt) # time array\n",
    "\n",
    "## Constants\n",
    "Cm = 10                         # capacitance (uF)\n",
    "Rm = 1                          # resistance (kOhm)\n",
    "tau_m = Rm*Cm                   # time constant (msec)\n",
    "tau_ref = 4                     # refractory period (msec)\n",
    "Vth = 1                         # spike threshold (V)\n",
    "V_spike = 0.5                   # spike delta (V)\n",
    "\n",
    "## Input/Outputs\n",
    "I = 1.5                         # input current (A)\n",
    "\n",
    "def lif_model(I, length):\n",
    "    t_refr = 0                      # initial refractory time\n",
    "    I_arr = np.zeros(len(t_arr_lif))    # dynamic input current over time\n",
    "    I_start = 10                    # when to start input current (msec)\n",
    "\n",
    "    for i in range(int(I_start / dt), int((I_start / dt) + (length / dt))):\n",
    "        I_arr[i] = I\n",
    "\n",
    "    Vm = np.zeros(len(t_arr_lif))       # potential (V) trace over time\n",
    "\n",
    "    ## iterate over each time step\n",
    "    for i, t in enumerate(t_arr_lif):\n",
    "        if t > t_refr:\n",
    "            Vm[i] = Vm[i-1] + ((-Vm[i-1] + I_arr[i-1]*Rm) * dt / tau_m)\n",
    "            if Vm[i] >= Vth:\n",
    "                Vm[i] += V_spike\n",
    "                t_refr = t + tau_ref\n",
    "\n",
    "    ## plot membrane potential trace\n",
    "    plt.figure()\n",
    "\n",
    "    color = 'tab:blue'\n",
    "    ax = sns.lineplot(x=t_arr_lif, y=Vm, color=color)\n",
    "    ax.set_title(\"LIF Neuron\")\n",
    "    ax.set_xlabel(\"Time (msec)\")\n",
    "    ax.set_ylabel(\"Membrane Potential (mV)\", color=color)\n",
    "    ax.tick_params(axis='y', labelcolor=color)\n",
    "    ax.set_xlim([0, t_total_lif])\n",
    "    ax.set_ylim([-0.01, 1.6])\n",
    "\n",
    "    color = 'tab:red'\n",
    "    ax2 = ax.twinx()\n",
    "    sns.lineplot(x=t_arr_lif, y=I_arr, ax=ax2, color=color)\n",
    "    ax2.set_ylabel(\"Input Current (A)\", color=color)\n",
    "    ax2.tick_params(axis='y', labelcolor=color)\n",
    "    ax2.set_ylim([-0.01, 20])\n",
    "    plt.show()\n",
    "interact(lif_model, I=(0, 5, 0.1), length=(0, 90, 1));"
   ],
   "metadata": {
    "collapsed": false,
    "pycharm": {
     "name": "#%%\n"
    }
   }
  },
  {
   "cell_type": "markdown",
   "source": [
    "## Part 3: Izhikevich Model\n",
    "Differential equations describe change in $V$ from state $i - 1$ to $i$ during time interval $dt$.\n",
    "\n",
    "The Izhikevich model is described by the following differential equations:\n",
    "\n",
    "$$\\frac{dv}{dt} = 0.04v^2+5v+140-u+I$$\n",
    "\n",
    "$$\\frac{du}{dt} = a(bv-u)$$\n",
    "\n",
    "Thus, we use the following update rules, performed during each time step $dt$.\n",
    "\n",
    "$$u[i] = a(bv[i-1] - u[i-1])dt$$\n",
    "\n",
    "$$v[i] = 0.04v[i-1]^2+5v[i-1]+140-u[i-1]+I[i-1]$$"
   ],
   "metadata": {
    "collapsed": false
   }
  },
  {
   "cell_type": "code",
   "execution_count": 3,
   "outputs": [
    {
     "data": {
      "text/plain": "interactive(children=(FloatSlider(value=5.0, description='I', max=10.0), IntSlider(value=400, description='len…",
      "application/vnd.jupyter.widget-view+json": {
       "version_major": 2,
       "version_minor": 0,
       "model_id": "eb1c7da73d0a40b2a2e4b1d985e9848b"
      }
     },
     "metadata": {},
     "output_type": "display_data"
    }
   ],
   "source": [
    "## Time Variables\n",
    "t_total_iz = 1000                    # total time to simulate (msec)\n",
    "dt = 0.1                        # simulation time step (msec)\n",
    "t_arr_iz = np.arange(0, t_total_iz, dt) # time array\n",
    "t_refr = 0                      # initial refractory time\n",
    "\n",
    "## Constants\n",
    "a = 0.02                         # model parameter\n",
    "b = 0.2                         # model parameter\n",
    "c = -65                         # rest voltage (V)\n",
    "d = 8                         # membrane recovery\n",
    "\n",
    "v_th = 30\n",
    "v_spike = 0.5\n",
    "\n",
    "def iz_model(I, length):\n",
    "    I_arr = np.zeros(len(t_arr_iz))\n",
    "    I_start = 200\n",
    "    for i in range(int(I_start / dt), int((I_start / dt) + (length / dt))):\n",
    "        I_arr[i] = I\n",
    "\n",
    "    v = c*np.ones(len(t_arr_iz))       # potential (V) trace over time\n",
    "    u = np.zeros(len(t_arr_iz))\n",
    "\n",
    "    ## Iterating over each time step\n",
    "    for i in range(0, len(t_arr_iz) - 1):\n",
    "        u[i+1] = u[i] + (a*(b*v[i] - u[i]) * dt)\n",
    "        v[i+1] = v[i] + (0.04*(v[i]**2) + 5*v[i] + 140 - u[i] + I_arr[i])\n",
    "\n",
    "        if v[i+1] >= v_th:\n",
    "            v[i+1] = c\n",
    "            u[i+1] += d\n",
    "\n",
    "    plt.figure(figsize=(48, 12))\n",
    "\n",
    "    color = 'tab:blue'\n",
    "    ax = sns.lineplot(x=t_arr_iz, y=v, color=color)\n",
    "    ax.set_title(\"Izhikevich Model\")\n",
    "    ax.set_xlabel(\"Time (msec)\")\n",
    "    ax.set_ylabel(\"Membrane Potential (mV)\", color=color)\n",
    "    ax.tick_params(axis='y', labelcolor=color)\n",
    "    ax.set_xlim([0, t_total_iz])\n",
    "\n",
    "    color = 'tab:red'\n",
    "    ax2 = ax.twinx()\n",
    "    sns.lineplot(x=t_arr_iz, y=I_arr, ax=ax2, color=color)\n",
    "    ax2.set_ylabel(\"Input Current (A)\", color=color)\n",
    "    ax2.tick_params(axis='y', labelcolor=color)\n",
    "    ax2.set_ylim([-0.01, 100])\n",
    "    plt.show()\n",
    "interact(iz_model, I=(0, 10, 0.1), length=(0, 800, 10));"
   ],
   "metadata": {
    "collapsed": false,
    "pycharm": {
     "name": "#%%\n"
    }
   }
  },
  {
   "cell_type": "markdown",
   "source": [
    "## Part 4: Hodgkin-Huxley Model\n",
    "Differential equations describe change in $V$ from state $i - 1$ to $i$ during time interval $dt$.\n",
    "\n",
    "The Hodgkin-Huxley model is described by the following differential equations:\n",
    "\n",
    "$$C\\frac{dv}{dt} = I-g_{Na}m^3h(V-V_{Na}) - g_Kn^4(V-V_K) - g_L(V-V_L)$$\n",
    "\n",
    "$$C\\frac{dm}{dt} = (1-m)a_m(V) - (m)b_m(V)$$\n",
    "\n",
    "$$C\\frac{dh}{dt} = (1-h)a_h(V) - (h)b_h(V)$$\n",
    "\n",
    "$$C\\frac{dn}{dt} = (1-n)a_n(V) - (n)b_n(V)$$\n",
    "\n",
    "Thus, we use the following update rules, performed during each time step $dt$.\n",
    "\n",
    "$$\\Large \\color{red}{\\text{# TODO}}$$"
   ],
   "metadata": {
    "collapsed": false,
    "pycharm": {
     "name": "#%% md\n"
    }
   }
  }
 ],
 "metadata": {
  "kernelspec": {
   "name": "pycharm-9eec61c3",
   "language": "python",
   "display_name": "PyCharm (Assignment1)"
  },
  "language_info": {
   "codemirror_mode": {
    "name": "ipython",
    "version": 2
   },
   "file_extension": ".py",
   "mimetype": "text/x-python",
   "name": "python",
   "nbconvert_exporter": "python",
   "pygments_lexer": "ipython2",
   "version": "2.7.6"
  }
 },
 "nbformat": 4,
 "nbformat_minor": 0
}
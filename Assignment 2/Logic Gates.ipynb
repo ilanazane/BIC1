{
 "cells": [
  {
   "cell_type": "code",
   "execution_count": 1,
   "metadata": {},
   "outputs": [
    {
     "name": "stdout",
     "output_type": "stream",
     "text": [
      "Using matplotlib backend: MacOSX\n"
     ]
    }
   ],
   "source": [
    "import numpy as np\n",
    "import matplotlib.pyplot as plt\n",
    "%matplotlib auto"
   ]
  },
  {
   "cell_type": "markdown",
   "metadata": {},
   "source": [
    "# Create Input Space and Starting Parameters"
   ]
  },
  {
   "cell_type": "code",
   "execution_count": 433,
   "metadata": {},
   "outputs": [],
   "source": [
    "start_time=300                         #starting point in ms \n",
    "#start_current=9                       #input current in amperes \n",
    "time_step=0.005                          #time increments  \n",
    "\n",
    "\n",
    "y=np.arange(0,1000.1,time_step)         \n",
    "\n",
    "                                        #function that injects current at certain time\n",
    "def start(start_time,start_current):\n",
    "    x=np.zeros((len(y)))                #create empty array to plot current\n",
    "\n",
    "    for i in range (0,len(y)):     \n",
    "        if y[i] >start_time:            #when we reach start time, start plotting input current \n",
    "            x[i]=start_current          #each second afterwards will hold the constant value of the input current \n",
    "    return x"
   ]
  },
  {
   "cell_type": "markdown",
   "metadata": {},
   "source": [
    "#  Calculate Differential Equations "
   ]
  },
  {
   "cell_type": "code",
   "execution_count": 434,
   "metadata": {},
   "outputs": [],
   "source": [
    "#these equations are not linear so they need to be approximated using Euler approximation\n",
    "#we rewrite the derivatives to show the change in voltage over change in time between two different timesteps \n",
    "def equations(current,u,v,a,b): \n",
    "    v = v+time_step*(0.04*v**2+5*v+140-u+current)\n",
    "    u = u+time_step*(a*(b*v-u))\n",
    "    \n",
    "    return u,v "
   ]
  },
  {
   "cell_type": "markdown",
   "metadata": {},
   "source": [
    "# Create the Izhikevich Model "
   ]
  },
  {
   "cell_type": "code",
   "execution_count": 435,
   "metadata": {},
   "outputs": [],
   "source": [
    "def model(a,b,c,d): \n",
    "    v = -65*np.ones((len(y)))         #creates the baseline array that holds the resting membrane potential \n",
    "    u = np.zeros((len(y)))            #initialize values for membrane recovery rate \n",
    "    u[0] = b*-65                      #initial value for u \n",
    "    \n",
    "    current = start(start_time,start_current)\n",
    "    for i in range(0,len(y)-1):\n",
    "        u[i+1],v[i+1]  = equations(current[i],u[i],v[i],a,b)\n",
    "                                    #after the spike reaches apex of 30mV, membrane voltage and recovery are reset\n",
    "        if v[i+1] > 30:      \n",
    "            v[i+1] = c \n",
    "            u[i+1] = u[i+1]+d\n",
    "           \n",
    "    plotting(current,v,a,b,c,d,y,spike)\n",
    "    #return spike "
   ]
  },
  {
   "cell_type": "markdown",
   "metadata": {},
   "source": [
    "# Plotting Current as a Function of Time and Membrane Potential "
   ]
  },
  {
   "cell_type": "code",
   "execution_count": 440,
   "metadata": {},
   "outputs": [],
   "source": [
    "def plotting(current,v,a,b,c,d,y,spike):\n",
    "    #PLOT OUTPUT CURRENT \n",
    "    #print('spike',spike)\n",
    "    fig, ax1 = plt.subplots(figsize=(12,7))\n",
    "    ax1.plot(y, v, label = 'Output')\n",
    "    ax1.set_xlabel('Time in ms')\n",
    "    ax1.set_ylabel('Output in mV', color='k')\n",
    "    ax1.tick_params('y', colors='k')\n",
    "    ax1.set_ylim(-95,40)\n",
    "    ax1.set_title('Input Current: %s A ' %(start_current))\n",
    "    plt.show()\n",
    " "
   ]
  },
  {
   "cell_type": "markdown",
   "metadata": {},
   "source": [
    "# Result"
   ]
  },
  {
   "cell_type": "code",
   "execution_count": 441,
   "metadata": {},
   "outputs": [],
   "source": [
    "#start_current=3\n",
    "#model(0.02,0.2,-65,8)"
   ]
  },
  {
   "cell_type": "markdown",
   "metadata": {},
   "source": [
    "# Train Weights"
   ]
  },
  {
   "cell_type": "code",
   "execution_count": 449,
   "metadata": {
    "scrolled": false
   },
   "outputs": [],
   "source": [
    "#USING PERCEPTRON RULE \n",
    "def training(iterations,alpha,data,answers):\n",
    "    #initialize all weights to 0 \n",
    "    w1=np.zeros(1)\n",
    "    w2=np.zeros(1)\n",
    "    #initialize bias to 0 \n",
    "    b = np.zeros(1)\n",
    "    \n",
    "    \n",
    "    for j in range(iterations):\n",
    "        for i in range(len(data)):\n",
    "            #I and W correspond to first input and second input, respectively \n",
    "            I,W = data[i]  \n",
    "            #perceptron equation \n",
    "            eq = w1*I + w2*W + b\n",
    "            if eq > 0: \n",
    "                result = 1\n",
    "            else:\n",
    "                result = 0\n",
    "            #update weights and bias\n",
    "            w1 += alpha*(answers[i]-result)*data[i][0]\n",
    "            w2 += alpha*(answers[i]-result)*data[i][1]\n",
    "            b += alpha*(answers[i]-result)\n",
    "            #print(w1,w1)\n",
    "    return w1,w2,b\n",
    "\n",
    "\n",
    "    \n",
    "  "
   ]
  },
  {
   "cell_type": "markdown",
   "metadata": {},
   "source": [
    "# Encode, Get Final Weights, Decode"
   ]
  },
  {
   "cell_type": "code",
   "execution_count": 450,
   "metadata": {
    "scrolled": true
   },
   "outputs": [
    {
     "data": {
      "image/png": "[encoded data removed]",
      "text/plain": [
       "<Figure size 864x504 with 1 Axes>"
      ]
     },
     "metadata": {
      "needs_background": "light"
     },
     "output_type": "display_data"
    },
    {
     "data": {
      "image/png": "[encoded data removed]",
      "text/plain": [
       "<Figure size 864x504 with 1 Axes>"
      ]
     },
     "metadata": {
      "needs_background": "light"
     },
     "output_type": "display_data"
    },
    {
     "data": {
      "image/png": "[encoded data removed]",
      "text/plain": [
       "<Figure size 864x504 with 1 Axes>"
      ]
     },
     "metadata": {
      "needs_background": "light"
     },
     "output_type": "display_data"
    },
    {
     "data": {
      "image/png": "[encoded data removed]",
      "text/plain": [
       "<Figure size 864x504 with 1 Axes>"
      ]
     },
     "metadata": {
      "needs_background": "light"
     },
     "output_type": "display_data"
    }
   ],
   "source": [
    "alpha=0.1\n",
    "#input data \n",
    "data = np.array([[0,0],[1,1],[1,0],[0,1]])\n",
    "#change answers to correspond to gate. Currently set to AND gate \n",
    "answers = np.array([0,1,0,0])\n",
    "\n",
    "#get finalized weights    \n",
    "w1,w2,b = training(10,alpha,data,answers)\n",
    "#print(w1,w2)\n",
    "\n",
    "\n",
    "for i in range(len(data)): \n",
    "    I,W = data[i]\n",
    "    #input finalized weights into perceptron rule \n",
    "    eq = w1*I + w2*W + b\n",
    "    if eq > 0: \n",
    "        result = 1\n",
    "    else:\n",
    "        result = 0\n",
    "    #3A is minimum current to produce one spike \n",
    "    #decode 0,1 to represent spike \n",
    "    start_current=3*result\n",
    "    #plot \n",
    "    model(0.02,0.2,-65,8)\n",
    "\n"
   ]
  }
 ],
 "metadata": {
  "kernelspec": {
   "display_name": "Python 3",
   "language": "python",
   "name": "python3"
  },
  "language_info": {
   "codemirror_mode": {
    "name": "ipython",
    "version": 3
   },
   "file_extension": ".py",
   "mimetype": "text/x-python",
   "name": "python",
   "nbconvert_exporter": "python",
   "pygments_lexer": "ipython3",
   "version": "3.7.3"
  }
 },
 "nbformat": 4,
 "nbformat_minor": 2
}
